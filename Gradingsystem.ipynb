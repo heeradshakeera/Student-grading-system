{
 "cells": [
  {
   "cell_type": "code",
   "execution_count": 2,
   "metadata": {},
   "outputs": [
    {
     "name": "stdout",
     "output_type": "stream",
     "text": [
      "Collecting Statistics\n",
      "  Downloading https://files.pythonhosted.org/packages/bb/3a/ae99a15e65636559d936dd2159d75af1619491e8cb770859fbc8aa62cef6/statistics-1.0.3.5.tar.gz\n",
      "Requirement already satisfied: docutils>=0.3 in c:\\users\\hrishikesh\\anaconda3\\lib\\site-packages (from Statistics) (0.15.2)\n",
      "Building wheels for collected packages: Statistics\n",
      "  Building wheel for Statistics (setup.py): started\n",
      "  Building wheel for Statistics (setup.py): finished with status 'done'\n",
      "  Created wheel for Statistics: filename=statistics-1.0.3.5-cp37-none-any.whl size=7458 sha256=a1d513815ba2e8ebf9bfdd89f7b0b44df2e5d7c753c98ead86e7db26550d0ba8\n",
      "  Stored in directory: C:\\Users\\Hrishikesh\\AppData\\Local\\pip\\Cache\\wheels\\75\\55\\90\\73aa7662bfb4565b567618547a275f01372a678ca92ecd64f3\n",
      "Successfully built Statistics\n",
      "Installing collected packages: Statistics\n",
      "Successfully installed Statistics-1.0.3.5\n"
     ]
    }
   ],
   "source": [
    "!pip install Statistics"
   ]
  },
  {
   "cell_type": "code",
   "execution_count": 38,
   "metadata": {},
   "outputs": [],
   "source": [
    "import statistics as s\n"
   ]
  },
  {
   "cell_type": "code",
   "execution_count": 16,
   "metadata": {},
   "outputs": [
    {
     "name": "stdout",
     "output_type": "stream",
     "text": [
      "{'shakeera': [99, 80, 75], 'rasheeda': [80, 90, 85], 'shabna': [90, 90, 90]}\n"
     ]
    }
   ],
   "source": [
    "S_grade_details={'shakeera':[99,80,75], 'rasheeda':[80,90,85], 'shabna':[90,90,90]}\n",
    "print(S_grade_details)"
   ]
  },
  {
   "cell_type": "code",
   "execution_count": 31,
   "metadata": {},
   "outputs": [],
   "source": [
    "def add_student_grade():\n",
    "        s_name=input(\"Enter student name\")\n",
    "        grade=int(input('Enter grade'))\n",
    "        names_s=S_grade_details.keys()\n",
    "        print(\"Before adding grades\", S_grade_details)\n",
    "        if s_name in S_grade_details:\n",
    "            grade_list=S_grade_details[s_name]\n",
    "            grade_list.add(grade)\n",
    "        else:\n",
    "            S_grade_details[s_name]=[grade]\n",
    "        print(\"Afer adding grades\", S_grade_details)"
   ]
  },
  {
   "cell_type": "code",
   "execution_count": 40,
   "metadata": {},
   "outputs": [],
   "source": [
    "def delete_student():\n",
    "     s_name=input(\"Enter student name\")\n",
    "     print(\"Before deleting name\",S_grade_details)\n",
    "     if s_name in S_grade_details:\n",
    "         del S_grade_details[s_name]\n",
    "         print(\"After deleting name\",S_grade_details)\n",
    "     else:\n",
    "         print(\"No such a name\")\n",
    "    "
   ]
  },
  {
   "cell_type": "code",
   "execution_count": 41,
   "metadata": {},
   "outputs": [],
   "source": [
    "def average_grade():\n",
    "    s_name=input(\"Enter student name\")\n",
    "    grade_list=S_grade_details[s_name]\n",
    "    if s_name in S_grade_details:\n",
    "        print(\"Average grade of the studnt\", s.mean(grade_list))\n",
    "    else:\n",
    "         print(\"No such a name\")"
   ]
  },
  {
   "cell_type": "code",
   "execution_count": 43,
   "metadata": {},
   "outputs": [
    {
     "name": "stdout",
     "output_type": "stream",
     "text": [
      "enter user namesha\n",
      "enter passwordshakeer@A$\n",
      "admin can only access\n",
      "enter user nameheerad\n",
      "enter passwordshakeera@A4\n",
      " [1]. Enter Grades\n",
      " [2]. Remove Student\n",
      " [3]. Student Average Grades\n",
      " [4]. Exit\n",
      "What do you want to do today? (Enter a number)1\n",
      "Enter student nameasfin\n",
      "Enter grade95\n",
      "Before adding grades {'rasheeda': [80, 90, 85], 'shabna': [90, 90, 90], 'chinni': [88], 'shakeera': [99]}\n",
      "Afer adding grades {'rasheeda': [80, 90, 85], 'shabna': [90, 90, 90], 'chinni': [88], 'shakeera': [99], 'asfin': [95]}\n",
      " [1]. Enter Grades\n",
      " [2]. Remove Student\n",
      " [3]. Student Average Grades\n",
      " [4]. Exit\n",
      "What do you want to do today? (Enter a number)2\n",
      "Enter student namenam\n",
      "Before deleting name {'rasheeda': [80, 90, 85], 'shabna': [90, 90, 90], 'chinni': [88], 'shakeera': [99], 'asfin': [95]}\n",
      "No such a name\n",
      " [1]. Enter Grades\n",
      " [2]. Remove Student\n",
      " [3]. Student Average Grades\n",
      " [4]. Exit\n",
      "What do you want to do today? (Enter a number)chinni\n",
      "enter number only \n",
      " [1]. Enter Grades\n",
      " [2]. Remove Student\n",
      " [3]. Student Average Grades\n",
      " [4]. Exit\n",
      "What do you want to do today? (Enter a number)2\n",
      "Enter student namechinni\n",
      "Before deleting name {'rasheeda': [80, 90, 85], 'shabna': [90, 90, 90], 'chinni': [88], 'shakeera': [99], 'asfin': [95]}\n",
      "After deleting name {'rasheeda': [80, 90, 85], 'shabna': [90, 90, 90], 'shakeera': [99], 'asfin': [95]}\n",
      " [1]. Enter Grades\n",
      " [2]. Remove Student\n",
      " [3]. Student Average Grades\n",
      " [4]. Exit\n",
      "What do you want to do today? (Enter a number)3\n",
      "Enter student namerasheeda\n",
      "Average grade of the studnt 85\n",
      " [1]. Enter Grades\n",
      " [2]. Remove Student\n",
      " [3]. Student Average Grades\n",
      " [4]. Exit\n",
      "What do you want to do today? (Enter a number)6\n",
      "enter valid number\n",
      " [1]. Enter Grades\n",
      " [2]. Remove Student\n",
      " [3]. Student Average Grades\n",
      " [4]. Exit\n",
      "What do you want to do today? (Enter a number)4\n"
     ]
    }
   ],
   "source": [
    "while True:\n",
    "    adm_user=input('enter user name')\n",
    "    password=input('enter password')\n",
    "    if(adm_user=='heerad' and password=='shakeera@A4'):\n",
    "        while True:\n",
    "            try:\n",
    "\n",
    "                    print(\" [1]. Enter Grades\\n [2]. Remove Student\\n [3]. Student Average Grades\\n [4]. Exit\")\n",
    "                    x=int(input(\"What do you want to do today? (Enter a number)\"))\n",
    "                    if(x==1):\n",
    "                        add_student_grade()\n",
    "                    elif(x==2):\n",
    "                        delete_student()\n",
    "                    elif(x==3):\n",
    "                        average_grade()\n",
    "                    elif(x==4):\n",
    "                        break\n",
    "                    else:\n",
    "                        print('enter valid number')\n",
    "\n",
    "            except ValueError as e:\n",
    "                print('enter number only ')\n",
    "                continue\n",
    "        break\n",
    "    else:\n",
    "            print('admin can only access')\n",
    "        \n"
   ]
  },
  {
   "cell_type": "code",
   "execution_count": null,
   "metadata": {},
   "outputs": [],
   "source": []
  }
 ],
 "metadata": {
  "kernelspec": {
   "display_name": "Python 3",
   "language": "python",
   "name": "python3"
  },
  "language_info": {
   "codemirror_mode": {
    "name": "ipython",
    "version": 3
   },
   "file_extension": ".py",
   "mimetype": "text/x-python",
   "name": "python",
   "nbconvert_exporter": "python",
   "pygments_lexer": "ipython3",
   "version": "3.7.3"
  }
 },
 "nbformat": 4,
 "nbformat_minor": 2
}
